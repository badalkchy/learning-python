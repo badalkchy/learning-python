{
  "nbformat": 4,
  "nbformat_minor": 0,
  "metadata": {
    "colab": {
      "name": "Copy of Untitled9.ipynb",
      "provenance": [],
      "authorship_tag": "ABX9TyPlvRymsXmTbtYLBtCyGw2j",
      "include_colab_link": true
    },
    "kernelspec": {
      "name": "python3",
      "display_name": "Python 3"
    },
    "language_info": {
      "name": "python"
    }
  },
  "cells": [
    {
      "cell_type": "markdown",
      "metadata": {
        "id": "view-in-github",
        "colab_type": "text"
      },
      "source": [
        "<a href=\"https://colab.research.google.com/github/badalkchy/learning-python/blob/main/Copy_of_Untitled9.ipynb\" target=\"_parent\"><img src=\"https://colab.research.google.com/assets/colab-badge.svg\" alt=\"Open In Colab\"/></a>"
      ]
    },
    {
      "cell_type": "code",
      "metadata": {
        "colab": {
          "base_uri": "https://localhost:8080/"
        },
        "id": "3YDOjL8QZl80",
        "outputId": "67b93ad7-e74f-4b0e-a41c-e7bdd744093a"
      },
      "source": [
        "for i in range(3,31,3):\n",
        "  print(i)"
      ],
      "execution_count": null,
      "outputs": [
        {
          "output_type": "stream",
          "text": [
            "3\n",
            "6\n",
            "9\n",
            "12\n",
            "15\n",
            "18\n",
            "21\n",
            "24\n",
            "27\n",
            "30\n"
          ],
          "name": "stdout"
        }
      ]
    },
    {
      "cell_type": "code",
      "metadata": {
        "colab": {
          "base_uri": "https://localhost:8080/"
        },
        "id": "kwBhP8JtaLTQ",
        "outputId": "b41ba591-d6b3-4804-fffa-3dd43af91ba6"
      },
      "source": [
        "for i in range(1,11):\n",
        "  print(i, 'x', 3, '=', i*3)"
      ],
      "execution_count": null,
      "outputs": [
        {
          "output_type": "stream",
          "text": [
            "1 x 3 = 3\n",
            "2 x 3 = 6\n",
            "3 x 3 = 9\n",
            "4 x 3 = 12\n",
            "5 x 3 = 15\n",
            "6 x 3 = 18\n",
            "7 x 3 = 21\n",
            "8 x 3 = 24\n",
            "9 x 3 = 27\n",
            "10 x 3 = 30\n"
          ],
          "name": "stdout"
        }
      ]
    },
    {
      "cell_type": "code",
      "metadata": {
        "colab": {
          "base_uri": "https://localhost:8080/"
        },
        "id": "j_Xf59LBabPX",
        "outputId": "42ee7a9d-aadf-4c34-ffd4-a7188de17a67"
      },
      "source": [
        "for i in range(1,21):\n",
        "  print(5,\"x\",i,\"=\",i*5)"
      ],
      "execution_count": null,
      "outputs": [
        {
          "output_type": "stream",
          "text": [
            "5 x 1 = 5\n",
            "5 x 2 = 10\n",
            "5 x 3 = 15\n",
            "5 x 4 = 20\n",
            "5 x 5 = 25\n",
            "5 x 6 = 30\n",
            "5 x 7 = 35\n",
            "5 x 8 = 40\n",
            "5 x 9 = 45\n",
            "5 x 10 = 50\n",
            "5 x 11 = 55\n",
            "5 x 12 = 60\n",
            "5 x 13 = 65\n",
            "5 x 14 = 70\n",
            "5 x 15 = 75\n",
            "5 x 16 = 80\n",
            "5 x 17 = 85\n",
            "5 x 18 = 90\n",
            "5 x 19 = 95\n",
            "5 x 20 = 100\n"
          ],
          "name": "stdout"
        }
      ]
    },
    {
      "cell_type": "code",
      "metadata": {
        "colab": {
          "base_uri": "https://localhost:8080/"
        },
        "id": "4sZgLkOkbkyg",
        "outputId": "4b9f13a5-8c94-4d9b-e3dd-36bba64f31bb"
      },
      "source": [
        "for i in range (1,11):\n",
        "  print(1,\"x\",i,\"=\",1*i,\"     \",\"\",2,\"x\",i,\"=\",2*i,\"     \",\"\",3,\"x\",i,\"=\",3*i,\"     \",\"\",4,\"x\",i,\"=\",4*i,\"   \",\"\",5,\"x\",i,\"=\",5*i,\"   \",\"\",6,\"x\",i,\"=\",6*i,\"    \",\"\",7,\"x\",i,\"=\",7*i,\"    \",\"\",8,\"x\",i,\"=\",8*i,\"    \",\"\",9,\"x\",i,\"=\",9*i,\"    \",\"\",10,\"x\",i,\"=\",10*i,\" \")"
      ],
      "execution_count": null,
      "outputs": [
        {
          "output_type": "stream",
          "text": [
            "1 x 1 = 1        2 x 1 = 2        3 x 1 = 3        4 x 1 = 4      5 x 1 = 5      6 x 1 = 6       7 x 1 = 7       8 x 1 = 8       9 x 1 = 9       10 x 1 = 10  \n",
            "1 x 2 = 2        2 x 2 = 4        3 x 2 = 6        4 x 2 = 8      5 x 2 = 10      6 x 2 = 12       7 x 2 = 14       8 x 2 = 16       9 x 2 = 18       10 x 2 = 20  \n",
            "1 x 3 = 3        2 x 3 = 6        3 x 3 = 9        4 x 3 = 12      5 x 3 = 15      6 x 3 = 18       7 x 3 = 21       8 x 3 = 24       9 x 3 = 27       10 x 3 = 30  \n",
            "1 x 4 = 4        2 x 4 = 8        3 x 4 = 12        4 x 4 = 16      5 x 4 = 20      6 x 4 = 24       7 x 4 = 28       8 x 4 = 32       9 x 4 = 36       10 x 4 = 40  \n",
            "1 x 5 = 5        2 x 5 = 10        3 x 5 = 15        4 x 5 = 20      5 x 5 = 25      6 x 5 = 30       7 x 5 = 35       8 x 5 = 40       9 x 5 = 45       10 x 5 = 50  \n",
            "1 x 6 = 6        2 x 6 = 12        3 x 6 = 18        4 x 6 = 24      5 x 6 = 30      6 x 6 = 36       7 x 6 = 42       8 x 6 = 48       9 x 6 = 54       10 x 6 = 60  \n",
            "1 x 7 = 7        2 x 7 = 14        3 x 7 = 21        4 x 7 = 28      5 x 7 = 35      6 x 7 = 42       7 x 7 = 49       8 x 7 = 56       9 x 7 = 63       10 x 7 = 70  \n",
            "1 x 8 = 8        2 x 8 = 16        3 x 8 = 24        4 x 8 = 32      5 x 8 = 40      6 x 8 = 48       7 x 8 = 56       8 x 8 = 64       9 x 8 = 72       10 x 8 = 80  \n",
            "1 x 9 = 9        2 x 9 = 18        3 x 9 = 27        4 x 9 = 36      5 x 9 = 45      6 x 9 = 54       7 x 9 = 63       8 x 9 = 72       9 x 9 = 81       10 x 9 = 90  \n",
            "1 x 10 = 10        2 x 10 = 20        3 x 10 = 30        4 x 10 = 40      5 x 10 = 50      6 x 10 = 60       7 x 10 = 70       8 x 10 = 80       9 x 10 = 90       10 x 10 = 100  \n"
          ],
          "name": "stdout"
        }
      ]
    },
    {
      "cell_type": "code",
      "metadata": {
        "colab": {
          "base_uri": "https://localhost:8080/"
        },
        "id": "WkEyQYG2eN6g",
        "outputId": "059106c5-6da4-41b8-cc35-1a0af412fac1"
      },
      "source": [
        "for j in range(1,11):\n",
        "  for i in range(1,11):\n",
        "    print(i, 'x', j, '=', i*j)\n",
        "  print()"
      ],
      "execution_count": null,
      "outputs": [
        {
          "output_type": "stream",
          "text": [
            "1 x 1 = 1\n",
            "2 x 1 = 2\n",
            "3 x 1 = 3\n",
            "4 x 1 = 4\n",
            "5 x 1 = 5\n",
            "6 x 1 = 6\n",
            "7 x 1 = 7\n",
            "8 x 1 = 8\n",
            "9 x 1 = 9\n",
            "10 x 1 = 10\n",
            "\n",
            "1 x 2 = 2\n",
            "2 x 2 = 4\n",
            "3 x 2 = 6\n",
            "4 x 2 = 8\n",
            "5 x 2 = 10\n",
            "6 x 2 = 12\n",
            "7 x 2 = 14\n",
            "8 x 2 = 16\n",
            "9 x 2 = 18\n",
            "10 x 2 = 20\n",
            "\n",
            "1 x 3 = 3\n",
            "2 x 3 = 6\n",
            "3 x 3 = 9\n",
            "4 x 3 = 12\n",
            "5 x 3 = 15\n",
            "6 x 3 = 18\n",
            "7 x 3 = 21\n",
            "8 x 3 = 24\n",
            "9 x 3 = 27\n",
            "10 x 3 = 30\n",
            "\n",
            "1 x 4 = 4\n",
            "2 x 4 = 8\n",
            "3 x 4 = 12\n",
            "4 x 4 = 16\n",
            "5 x 4 = 20\n",
            "6 x 4 = 24\n",
            "7 x 4 = 28\n",
            "8 x 4 = 32\n",
            "9 x 4 = 36\n",
            "10 x 4 = 40\n",
            "\n",
            "1 x 5 = 5\n",
            "2 x 5 = 10\n",
            "3 x 5 = 15\n",
            "4 x 5 = 20\n",
            "5 x 5 = 25\n",
            "6 x 5 = 30\n",
            "7 x 5 = 35\n",
            "8 x 5 = 40\n",
            "9 x 5 = 45\n",
            "10 x 5 = 50\n",
            "\n",
            "1 x 6 = 6\n",
            "2 x 6 = 12\n",
            "3 x 6 = 18\n",
            "4 x 6 = 24\n",
            "5 x 6 = 30\n",
            "6 x 6 = 36\n",
            "7 x 6 = 42\n",
            "8 x 6 = 48\n",
            "9 x 6 = 54\n",
            "10 x 6 = 60\n",
            "\n",
            "1 x 7 = 7\n",
            "2 x 7 = 14\n",
            "3 x 7 = 21\n",
            "4 x 7 = 28\n",
            "5 x 7 = 35\n",
            "6 x 7 = 42\n",
            "7 x 7 = 49\n",
            "8 x 7 = 56\n",
            "9 x 7 = 63\n",
            "10 x 7 = 70\n",
            "\n",
            "1 x 8 = 8\n",
            "2 x 8 = 16\n",
            "3 x 8 = 24\n",
            "4 x 8 = 32\n",
            "5 x 8 = 40\n",
            "6 x 8 = 48\n",
            "7 x 8 = 56\n",
            "8 x 8 = 64\n",
            "9 x 8 = 72\n",
            "10 x 8 = 80\n",
            "\n",
            "1 x 9 = 9\n",
            "2 x 9 = 18\n",
            "3 x 9 = 27\n",
            "4 x 9 = 36\n",
            "5 x 9 = 45\n",
            "6 x 9 = 54\n",
            "7 x 9 = 63\n",
            "8 x 9 = 72\n",
            "9 x 9 = 81\n",
            "10 x 9 = 90\n",
            "\n",
            "1 x 10 = 10\n",
            "2 x 10 = 20\n",
            "3 x 10 = 30\n",
            "4 x 10 = 40\n",
            "5 x 10 = 50\n",
            "6 x 10 = 60\n",
            "7 x 10 = 70\n",
            "8 x 10 = 80\n",
            "9 x 10 = 90\n",
            "10 x 10 = 100\n",
            "\n"
          ],
          "name": "stdout"
        }
      ]
    },
    {
      "cell_type": "code",
      "metadata": {
        "colab": {
          "base_uri": "https://localhost:8080/"
        },
        "id": "fg6wKjnyfzwI",
        "outputId": "8f418b15-e08c-4756-8ae6-9bc5801dcd51"
      },
      "source": [
        "for i in range (1,11):\n",
        "  print(2,\"x\",i,\"=\",i*2)"
      ],
      "execution_count": null,
      "outputs": [
        {
          "output_type": "stream",
          "text": [
            "2 x 1 = 2\n",
            "2 x 2 = 4\n",
            "2 x 3 = 6\n",
            "2 x 4 = 8\n",
            "2 x 5 = 10\n",
            "2 x 6 = 12\n",
            "2 x 7 = 14\n",
            "2 x 8 = 16\n",
            "2 x 9 = 18\n",
            "2 x 10 = 20\n"
          ],
          "name": "stdout"
        }
      ]
    },
    {
      "cell_type": "code",
      "metadata": {
        "colab": {
          "base_uri": "https://localhost:8080/"
        },
        "id": "NeNc27dYjsQv",
        "outputId": "08e5e086-6b5d-4cd2-9d04-a877fd2ac564"
      },
      "source": [
        "for i in range(1,11):\n",
        "  for j in range(1,11):\n",
        "    print(i,\"x\",j,\"=\",i*j)\n",
        "  print('\\n',)"
      ],
      "execution_count": null,
      "outputs": [
        {
          "output_type": "stream",
          "text": [
            "1 x 1 = 1\n",
            "1 x 2 = 2\n",
            "1 x 3 = 3\n",
            "1 x 4 = 4\n",
            "1 x 5 = 5\n",
            "1 x 6 = 6\n",
            "1 x 7 = 7\n",
            "1 x 8 = 8\n",
            "1 x 9 = 9\n",
            "1 x 10 = 10\n",
            "\n",
            "\n",
            "2 x 1 = 2\n",
            "2 x 2 = 4\n",
            "2 x 3 = 6\n",
            "2 x 4 = 8\n",
            "2 x 5 = 10\n",
            "2 x 6 = 12\n",
            "2 x 7 = 14\n",
            "2 x 8 = 16\n",
            "2 x 9 = 18\n",
            "2 x 10 = 20\n",
            "\n",
            "\n",
            "3 x 1 = 3\n",
            "3 x 2 = 6\n",
            "3 x 3 = 9\n",
            "3 x 4 = 12\n",
            "3 x 5 = 15\n",
            "3 x 6 = 18\n",
            "3 x 7 = 21\n",
            "3 x 8 = 24\n",
            "3 x 9 = 27\n",
            "3 x 10 = 30\n",
            "\n",
            "\n",
            "4 x 1 = 4\n",
            "4 x 2 = 8\n",
            "4 x 3 = 12\n",
            "4 x 4 = 16\n",
            "4 x 5 = 20\n",
            "4 x 6 = 24\n",
            "4 x 7 = 28\n",
            "4 x 8 = 32\n",
            "4 x 9 = 36\n",
            "4 x 10 = 40\n",
            "\n",
            "\n",
            "5 x 1 = 5\n",
            "5 x 2 = 10\n",
            "5 x 3 = 15\n",
            "5 x 4 = 20\n",
            "5 x 5 = 25\n",
            "5 x 6 = 30\n",
            "5 x 7 = 35\n",
            "5 x 8 = 40\n",
            "5 x 9 = 45\n",
            "5 x 10 = 50\n",
            "\n",
            "\n",
            "6 x 1 = 6\n",
            "6 x 2 = 12\n",
            "6 x 3 = 18\n",
            "6 x 4 = 24\n",
            "6 x 5 = 30\n",
            "6 x 6 = 36\n",
            "6 x 7 = 42\n",
            "6 x 8 = 48\n",
            "6 x 9 = 54\n",
            "6 x 10 = 60\n",
            "\n",
            "\n",
            "7 x 1 = 7\n",
            "7 x 2 = 14\n",
            "7 x 3 = 21\n",
            "7 x 4 = 28\n",
            "7 x 5 = 35\n",
            "7 x 6 = 42\n",
            "7 x 7 = 49\n",
            "7 x 8 = 56\n",
            "7 x 9 = 63\n",
            "7 x 10 = 70\n",
            "\n",
            "\n",
            "8 x 1 = 8\n",
            "8 x 2 = 16\n",
            "8 x 3 = 24\n",
            "8 x 4 = 32\n",
            "8 x 5 = 40\n",
            "8 x 6 = 48\n",
            "8 x 7 = 56\n",
            "8 x 8 = 64\n",
            "8 x 9 = 72\n",
            "8 x 10 = 80\n",
            "\n",
            "\n",
            "9 x 1 = 9\n",
            "9 x 2 = 18\n",
            "9 x 3 = 27\n",
            "9 x 4 = 36\n",
            "9 x 5 = 45\n",
            "9 x 6 = 54\n",
            "9 x 7 = 63\n",
            "9 x 8 = 72\n",
            "9 x 9 = 81\n",
            "9 x 10 = 90\n",
            "\n",
            "\n",
            "10 x 1 = 10\n",
            "10 x 2 = 20\n",
            "10 x 3 = 30\n",
            "10 x 4 = 40\n",
            "10 x 5 = 50\n",
            "10 x 6 = 60\n",
            "10 x 7 = 70\n",
            "10 x 8 = 80\n",
            "10 x 9 = 90\n",
            "10 x 10 = 100\n",
            "\n",
            "\n"
          ],
          "name": "stdout"
        }
      ]
    },
    {
      "cell_type": "code",
      "metadata": {
        "id": "n5lDUC-YnwRb",
        "colab": {
          "base_uri": "https://localhost:8080/"
        },
        "outputId": "afe0e63e-bd00-4286-dc23-da8bc11af662"
      },
      "source": [
        "a=[\"Apple\",\"Ball\",\"Cat\",\"Dog\",\"Elephant\",\"Fan\",\"Gun\"]\n",
        "for i in a:\n",
        "  print(i)"
      ],
      "execution_count": null,
      "outputs": [
        {
          "output_type": "stream",
          "text": [
            "Apple\n",
            "Ball\n",
            "Cat\n",
            "Dog\n",
            "Elephant\n",
            "Fan\n",
            "Gun\n"
          ],
          "name": "stdout"
        }
      ]
    },
    {
      "cell_type": "code",
      "metadata": {
        "id": "9XyqYoQLkUpE",
        "colab": {
          "base_uri": "https://localhost:8080/",
          "height": 131
        },
        "outputId": "cd43fd94-1bb7-4bac-9218-0a45fbb21bef"
      },
      "source": [
        "a=[\"Red\",\"Blue\",\"Green\",\"Yellow\",\"Orange\",\"Violet\",\"Indigo\"]\n",
        "b=['Tiger',\"lion\",'Peocock',\"Monkey\",\"Zebra\",\"Jiraff\",\"snake\",\"Fish\"]\n",
        "c=[\"Alovera\",\"Sunflower\",\"Rose\",\"Marigold\",\"Jasmine\",\"lotus\",\"Cacttus\"]\n",
        "d=[\"potato\",\"tomato\",\"onion\",\"cucmber\",\"Cauliflower\",\"ladyfinger\",\"pumpkin\"]\n",
        "e=[\"Mango\",\"guava\",\"peach\",\"Avocado\",\"Banana\",\"Apricot\",\"Stowberry\"]\n",
        "f=[\"Cricket\",\"Football\",\"Table tannies\",\"Batminton\",\"Volley ball\",\"Basket ball\"]\n",
        "x=\"Colors\"\"  \"\"Animals\"\"  \"\"Plant\"\"  \"\"Vegetables\"\"  \"\"Fruits\"\"  \"\"Games\"\n",
        "\n",
        "#print(Choice)\n",
        "x=int(input(\"Enter your choice :\"))\n",
        "if x==Colors:\n",
        "  print(a)\n",
        "  elif x==Animals:\n",
        "    print(b)\n",
        "    elif x==Plant:\n",
        "      print(c)\n",
        "      \n",
        "\n",
        " #if i==colors\n",
        "  #for i in range(colors)\n"
      ],
      "execution_count": null,
      "outputs": [
        {
          "output_type": "error",
          "ename": "SyntaxError",
          "evalue": "ignored",
          "traceback": [
            "\u001b[0;36m  File \u001b[0;32m\"<ipython-input-18-930e72fd1e2e>\"\u001b[0;36m, line \u001b[0;32m13\u001b[0m\n\u001b[0;31m    elif Choice==Animals:\u001b[0m\n\u001b[0m       ^\u001b[0m\n\u001b[0;31mSyntaxError\u001b[0m\u001b[0;31m:\u001b[0m invalid syntax\n"
          ]
        }
      ]
    },
    {
      "cell_type": "code",
      "metadata": {
        "id": "XXc3syJBqW1p",
        "colab": {
          "base_uri": "https://localhost:8080/"
        },
        "outputId": "115cf13b-5804-4f63-ba5e-901aebf90371"
      },
      "source": [
        "for i in range(1,11):\n",
        "  print(i*1,'  ',i*2,\"  \",i*3,\"  \",i*4,\"  \",i*5,\"  \",i*6,\"  \",i*7,\"  \",i*8,\"  \",i*9,\"  \",i*10)"
      ],
      "execution_count": null,
      "outputs": [
        {
          "output_type": "stream",
          "text": [
            "1    2    3    4    5    6    7    8    9    10\n",
            "2    4    6    8    10    12    14    16    18    20\n",
            "3    6    9    12    15    18    21    24    27    30\n",
            "4    8    12    16    20    24    28    32    36    40\n",
            "5    10    15    20    25    30    35    40    45    50\n",
            "6    12    18    24    30    36    42    48    54    60\n",
            "7    14    21    28    35    42    49    56    63    70\n",
            "8    16    24    32    40    48    56    64    72    80\n",
            "9    18    27    36    45    54    63    72    81    90\n",
            "10    20    30    40    50    60    70    80    90    100\n"
          ],
          "name": "stdout"
        }
      ]
    },
    {
      "cell_type": "code",
      "metadata": {
        "id": "sxpMvNmTKibE"
      },
      "source": [
        ""
      ],
      "execution_count": null,
      "outputs": []
    }
  ]
}