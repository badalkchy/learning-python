{
  "nbformat": 4,
  "nbformat_minor": 0,
  "metadata": {
    "colab": {
      "name": "Untitled11.ipynb",
      "provenance": [],
      "authorship_tag": "ABX9TyOV0p3N0075VvPWU9giQQo5",
      "include_colab_link": true
    },
    "kernelspec": {
      "name": "python3",
      "display_name": "Python 3"
    },
    "language_info": {
      "name": "python"
    }
  },
  "cells": [
    {
      "cell_type": "markdown",
      "metadata": {
        "id": "view-in-github",
        "colab_type": "text"
      },
      "source": [
        "<a href=\"https://colab.research.google.com/github/badalkchy/pandas/blob/main/1.ipynb\" target=\"_parent\"><img src=\"https://colab.research.google.com/assets/colab-badge.svg\" alt=\"Open In Colab\"/></a>"
      ]
    },
    {
      "cell_type": "code",
      "metadata": {
        "colab": {
          "base_uri": "https://localhost:8080/",
          "height": 175
        },
        "id": "zfHj3L23AnVT",
        "outputId": "be8c4bc8-d3e5-49d1-ccdc-8774d08ecb8b"
      },
      "source": [
        "# Python code demonstrate creating \n",
        "# DataFrame from dict narray / lists \n",
        "# By default addresses.\n",
        "\n",
        "import pandas as pd\n",
        "\n",
        "# intialise data of lists.\n",
        "data = {\n",
        "    'Name':['Tom', 'nick', 'krish', 'jack'],\n",
        "    'Age':[20, 21, 19, 18],\n",
        "    'Subject':['English','Maths','Science','Hindi'],\n",
        "    'Marks':['45/50','40/50','43/50','47/50']\n",
        "}\n",
        "\n",
        "# Create DataFrame\n",
        "df = pd.DataFrame(data)\n",
        "\n",
        "# Print the output.\n",
        "# print(df)\n",
        "df"
      ],
      "execution_count": null,
      "outputs": [
        {
          "output_type": "execute_result",
          "data": {
            "text/html": [
              "<div>\n",
              "<style scoped>\n",
              "    .dataframe tbody tr th:only-of-type {\n",
              "        vertical-align: middle;\n",
              "    }\n",
              "\n",
              "    .dataframe tbody tr th {\n",
              "        vertical-align: top;\n",
              "    }\n",
              "\n",
              "    .dataframe thead th {\n",
              "        text-align: right;\n",
              "    }\n",
              "</style>\n",
              "<table border=\"1\" class=\"dataframe\">\n",
              "  <thead>\n",
              "    <tr style=\"text-align: right;\">\n",
              "      <th></th>\n",
              "      <th>Name</th>\n",
              "      <th>Age</th>\n",
              "      <th>Subject</th>\n",
              "      <th>Marks</th>\n",
              "    </tr>\n",
              "  </thead>\n",
              "  <tbody>\n",
              "    <tr>\n",
              "      <th>0</th>\n",
              "      <td>Tom</td>\n",
              "      <td>20</td>\n",
              "      <td>English</td>\n",
              "      <td>45/50</td>\n",
              "    </tr>\n",
              "    <tr>\n",
              "      <th>1</th>\n",
              "      <td>nick</td>\n",
              "      <td>21</td>\n",
              "      <td>Maths</td>\n",
              "      <td>40/50</td>\n",
              "    </tr>\n",
              "    <tr>\n",
              "      <th>2</th>\n",
              "      <td>krish</td>\n",
              "      <td>19</td>\n",
              "      <td>Science</td>\n",
              "      <td>43/50</td>\n",
              "    </tr>\n",
              "    <tr>\n",
              "      <th>3</th>\n",
              "      <td>jack</td>\n",
              "      <td>18</td>\n",
              "      <td>Hindi</td>\n",
              "      <td>47/50</td>\n",
              "    </tr>\n",
              "  </tbody>\n",
              "</table>\n",
              "</div>"
            ],
            "text/plain": [
              "    Name  Age  Subject  Marks\n",
              "0    Tom   20  English  45/50\n",
              "1   nick   21    Maths  40/50\n",
              "2  krish   19  Science  43/50\n",
              "3   jack   18    Hindi  47/50"
            ]
          },
          "metadata": {
            "tags": []
          },
          "execution_count": 8
        }
      ]
    },
    {
      "cell_type": "code",
      "metadata": {
        "colab": {
          "base_uri": "https://localhost:8080/"
        },
        "id": "QZAUfZwcCaoM",
        "outputId": "e319b18b-284f-4579-ed94-ec255d0117c8"
      },
      "source": [
        "type(df)"
      ],
      "execution_count": null,
      "outputs": [
        {
          "output_type": "execute_result",
          "data": {
            "text/plain": [
              "pandas.core.frame.DataFrame"
            ]
          },
          "metadata": {
            "tags": []
          },
          "execution_count": 5
        }
      ]
    },
    {
      "cell_type": "code",
      "metadata": {
        "colab": {
          "base_uri": "https://localhost:8080/"
        },
        "id": "FmYyGrVrC2jO",
        "outputId": "4adb0cd7-c59c-40f0-dfb3-8dc4f0f3e36d"
      },
      "source": [
        "dict(df)"
      ],
      "execution_count": null,
      "outputs": [
        {
          "output_type": "execute_result",
          "data": {
            "text/plain": [
              "{'Age': 0    20\n",
              " 1    21\n",
              " 2    19\n",
              " 3    18\n",
              " Name: Age, dtype: int64, 'Marks': 0    45/50\n",
              " 1    40/50\n",
              " 2    43/50\n",
              " 3    47/50\n",
              " Name: Marks, dtype: object, 'Name': 0      Tom\n",
              " 1     nick\n",
              " 2    krish\n",
              " 3     jack\n",
              " Name: Name, dtype: object, 'Subject': 0    English\n",
              " 1      Maths\n",
              " 2    Science\n",
              " 3      Hindi\n",
              " Name: Subject, dtype: object}"
            ]
          },
          "metadata": {
            "tags": []
          },
          "execution_count": 6
        }
      ]
    },
    {
      "cell_type": "markdown",
      "metadata": {
        "id": "k7bqmChmCZSu"
      },
      "source": [
        ""
      ]
    },
    {
      "cell_type": "code",
      "metadata": {
        "colab": {
          "base_uri": "https://localhost:8080/"
        },
        "id": "OEHPQ3STAqVl",
        "outputId": "e84205df-efd1-460a-eb3c-43eaf6398dd2"
      },
      "source": [
        "a=['Name','badal','amit','vicky']\n",
        "a"
      ],
      "execution_count": null,
      "outputs": [
        {
          "output_type": "execute_result",
          "data": {
            "text/plain": [
              "['Name', 'badal', 'amit', 'vicky']"
            ]
          },
          "metadata": {
            "tags": []
          },
          "execution_count": 4
        }
      ]
    }
  ]
}