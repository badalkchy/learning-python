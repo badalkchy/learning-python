{
  "nbformat": 4,
  "nbformat_minor": 0,
  "metadata": {
    "colab": {
      "name": "Untitled14.ipynb",
      "provenance": [],
      "authorship_tag": "ABX9TyNSzDKu5o4BTh6OJrECVREk",
      "include_colab_link": true
    },
    "kernelspec": {
      "name": "python3",
      "display_name": "Python 3"
    },
    "language_info": {
      "name": "python"
    }
  },
  "cells": [
    {
      "cell_type": "markdown",
      "metadata": {
        "id": "view-in-github",
        "colab_type": "text"
      },
      "source": [
        "<a href=\"https://colab.research.google.com/github/badalkchy/pandas/blob/main/Class%20%26%20Object.ipynb\" target=\"_parent\"><img src=\"https://colab.research.google.com/assets/colab-badge.svg\" alt=\"Open In Colab\"/></a>"
      ]
    },
    {
      "cell_type": "code",
      "metadata": {
        "colab": {
          "base_uri": "https://localhost:8080/"
        },
        "id": "AgKbj6gxOZuI",
        "outputId": "c57d5ab3-914e-43d3-9e5a-ecf1c7c36651"
      },
      "source": [
        "# A Sample class with init method\n",
        "class Person:\n",
        "\n",
        "\t# init method or constructor\n",
        "\tdef __init__(self, name):\n",
        "\t\tself.name = name\n",
        "\n",
        "\t# Sample Method\n",
        "\tdef say_hi(self):\n",
        "\t\tprint('Hello, my name is', self.name)\n",
        "\n",
        "p = Person('Nikhil')\n",
        "p.say_hi()"
      ],
      "execution_count": 1,
      "outputs": [
        {
          "output_type": "stream",
          "text": [
            "Hello, my name is Nikhil\n"
          ],
          "name": "stdout"
        }
      ]
    },
    {
      "cell_type": "code",
      "metadata": {
        "id": "UYn-Q3gIP438"
      },
      "source": [
        "badal = Person(4)"
      ],
      "execution_count": 2,
      "outputs": []
    },
    {
      "cell_type": "code",
      "metadata": {
        "colab": {
          "base_uri": "https://localhost:8080/"
        },
        "id": "dasXfvFURTVA",
        "outputId": "50ec08bc-4b64-4f2c-9539-8193a0d40eea"
      },
      "source": [
        "badal.say_hi()"
      ],
      "execution_count": 3,
      "outputs": [
        {
          "output_type": "stream",
          "text": [
            "Hello, my name is 4\n"
          ],
          "name": "stdout"
        }
      ]
    },
    {
      "cell_type": "code",
      "metadata": {
        "colab": {
          "base_uri": "https://localhost:8080/"
        },
        "id": "lkexo3QERYAX",
        "outputId": "698b5588-668f-4eb8-e3aa-0078cd18d0dc"
      },
      "source": [
        "class Person:\n",
        "\n",
        "  def __init__(self, name):\n",
        "    self.name = name\n",
        "\n",
        "  def say_hi(self):\n",
        "    print('Hello, My Name is',self.name)\n",
        "    \n",
        "a = Person(\"Badal\")\n",
        "a.say_hi()\n",
        "\n",
        "\n",
        "\n"
      ],
      "execution_count": 5,
      "outputs": [
        {
          "output_type": "stream",
          "text": [
            "Hello, My Name is Badal\n"
          ],
          "name": "stdout"
        }
      ]
    },
    {
      "cell_type": "code",
      "metadata": {
        "id": "Hu9IABSLXvNE"
      },
      "source": [
        ""
      ],
      "execution_count": null,
      "outputs": []
    }
  ]
}