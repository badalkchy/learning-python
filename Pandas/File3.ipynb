{
  "nbformat": 4,
  "nbformat_minor": 0,
  "metadata": {
    "colab": {
      "name": "Untitled13.ipynb",
      "provenance": [],
      "collapsed_sections": [],
      "authorship_tag": "ABX9TyP5ewBtCLtd/NA1QWFdqrg9",
      "include_colab_link": true
    },
    "kernelspec": {
      "name": "python3",
      "display_name": "Python 3"
    },
    "language_info": {
      "name": "python"
    }
  },
  "cells": [
    {
      "cell_type": "markdown",
      "metadata": {
        "id": "view-in-github",
        "colab_type": "text"
      },
      "source": [
        "<a href=\"https://colab.research.google.com/github/badalkchy/pandas/blob/main/File3.ipynb\" target=\"_parent\"><img src=\"https://colab.research.google.com/assets/colab-badge.svg\" alt=\"Open In Colab\"/></a>"
      ]
    },
    {
      "cell_type": "code",
      "metadata": {
        "id": "G5rZ0PtPz0-6"
      },
      "source": [
        "# importing pandas package\n",
        "import pandas as pd\n",
        " \n",
        "# making data frame from csv file\n",
        "data = pd.read_csv(\"/content/nba.csv\", \n",
        "                   index_col =\"Name\"\n",
        "                   )\n",
        " \n",
        "# retrieving row by loc method\n",
        "first = data.loc[\"Avery Bradley\"]\n",
        "second = data.loc[\"R.J. Hunter\"]"
      ],
      "execution_count": 5,
      "outputs": []
    },
    {
      "cell_type": "code",
      "metadata": {
        "colab": {
          "base_uri": "https://localhost:8080/"
        },
        "id": "NhEfqc6e02sa",
        "outputId": "28c3d2ae-7acd-41c0-b056-ad5759a4635a"
      },
      "source": [
        "first"
      ],
      "execution_count": 6,
      "outputs": [
        {
          "output_type": "execute_result",
          "data": {
            "text/plain": [
              "Team        Boston Celtics\n",
              "Number                   0\n",
              "Position                PG\n",
              "Age                     25\n",
              "Height                 6-2\n",
              "Weight                 180\n",
              "College              Texas\n",
              "Salary         7.73034e+06\n",
              "Name: Avery Bradley, dtype: object"
            ]
          },
          "metadata": {
            "tags": []
          },
          "execution_count": 6
        }
      ]
    },
    {
      "cell_type": "code",
      "metadata": {
        "colab": {
          "base_uri": "https://localhost:8080/"
        },
        "id": "52FBduB404ET",
        "outputId": "b1afd73a-6eed-4c5b-ef78-25b74ce94bba"
      },
      "source": [
        "second"
      ],
      "execution_count": 7,
      "outputs": [
        {
          "output_type": "execute_result",
          "data": {
            "text/plain": [
              "Team        Boston Celtics\n",
              "Number                  28\n",
              "Position                SG\n",
              "Age                     22\n",
              "Height                 6-5\n",
              "Weight                 185\n",
              "College      Georgia State\n",
              "Salary         1.14864e+06\n",
              "Name: R.J. Hunter, dtype: object"
            ]
          },
          "metadata": {
            "tags": []
          },
          "execution_count": 7
        }
      ]
    },
    {
      "cell_type": "code",
      "metadata": {
        "id": "DyCROnBJ05o_"
      },
      "source": [
        "import pandas as pd\n",
        "\n",
        "data = pd.read_csv('/content/nba.csv',\n",
        "                   index_col=\"Name\"\n",
        "                   )\n",
        "first = data.loc[\"Kelly Olynyk\"]\n",
        "\n",
        "second = data.loc[\"Tyler Zeller\"]\n",
        "\n",
        "third = data.loc[\"Evan Turner\"]"
      ],
      "execution_count": 11,
      "outputs": []
    },
    {
      "cell_type": "code",
      "metadata": {
        "colab": {
          "base_uri": "https://localhost:8080/"
        },
        "id": "dAchxgBu31La",
        "outputId": "32971550-5161-45cf-fa50-3f0cd386e1ca"
      },
      "source": [
        "second"
      ],
      "execution_count": 8,
      "outputs": [
        {
          "output_type": "execute_result",
          "data": {
            "text/plain": [
              "Team        Boston Celtics\n",
              "Number                  28\n",
              "Position                SG\n",
              "Age                     22\n",
              "Height                 6-5\n",
              "Weight                 185\n",
              "College      Georgia State\n",
              "Salary         1.14864e+06\n",
              "Name: R.J. Hunter, dtype: object"
            ]
          },
          "metadata": {
            "tags": []
          },
          "execution_count": 8
        }
      ]
    },
    {
      "cell_type": "code",
      "metadata": {
        "colab": {
          "base_uri": "https://localhost:8080/"
        },
        "id": "HA8voCn64PxA",
        "outputId": "192f2aa4-cf10-4b90-b949-5ca0f75ece91"
      },
      "source": [
        "third"
      ],
      "execution_count": 12,
      "outputs": [
        {
          "output_type": "execute_result",
          "data": {
            "text/plain": [
              "Team        Boston Celtics\n",
              "Number                  11\n",
              "Position                SG\n",
              "Age                     27\n",
              "Height                 6-7\n",
              "Weight                 220\n",
              "College         Ohio State\n",
              "Salary         3.42551e+06\n",
              "Name: Evan Turner, dtype: object"
            ]
          },
          "metadata": {
            "tags": []
          },
          "execution_count": 12
        }
      ]
    },
    {
      "cell_type": "code",
      "metadata": {
        "id": "6uIfzw2t4Rgz"
      },
      "source": [
        ""
      ],
      "execution_count": null,
      "outputs": []
    }
  ]
}