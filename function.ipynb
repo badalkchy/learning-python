{
  "nbformat": 4,
  "nbformat_minor": 0,
  "metadata": {
    "colab": {
      "name": "function.ipynb",
      "provenance": [],
      "authorship_tag": "ABX9TyNwzGdTFWpdvZQuNFSd3HmP",
      "include_colab_link": true
    },
    "kernelspec": {
      "name": "python3",
      "display_name": "Python 3"
    },
    "language_info": {
      "name": "python"
    }
  },
  "cells": [
    {
      "cell_type": "markdown",
      "metadata": {
        "id": "view-in-github",
        "colab_type": "text"
      },
      "source": [
        "<a href=\"https://colab.research.google.com/github/badalkchy/learning-python/blob/main/function.ipynb\" target=\"_parent\"><img src=\"https://colab.research.google.com/assets/colab-badge.svg\" alt=\"Open In Colab\"/></a>"
      ]
    },
    {
      "cell_type": "code",
      "metadata": {
        "id": "QjxqtHC9CMW6"
      },
      "source": [
        "def add(a,b):\n",
        "  c=a+b\n",
        "  return c"
      ],
      "execution_count": 17,
      "outputs": []
    },
    {
      "cell_type": "code",
      "metadata": {
        "colab": {
          "base_uri": "https://localhost:8080/"
        },
        "id": "V_6vQX4uCY-N",
        "outputId": "25b2a9ff-a9b4-46ae-ef5c-0b6480c6317f"
      },
      "source": [
        "ans=add(55,34)\n",
        "ans"
      ],
      "execution_count": 18,
      "outputs": [
        {
          "output_type": "execute_result",
          "data": {
            "text/plain": [
              "89"
            ]
          },
          "metadata": {
            "tags": []
          },
          "execution_count": 18
        }
      ]
    },
    {
      "cell_type": "code",
      "metadata": {
        "id": "mKBN2qGfClc_"
      },
      "source": [
        "def sub(a,b):\n",
        "  c=a-b\n",
        "  return c"
      ],
      "execution_count": 19,
      "outputs": []
    },
    {
      "cell_type": "code",
      "metadata": {
        "colab": {
          "base_uri": "https://localhost:8080/"
        },
        "id": "VaN32dC6C3hm",
        "outputId": "fbe7ab42-1dee-4ed0-89bc-b22462883abe"
      },
      "source": [
        "ans=sub(30,25)\n",
        "ans"
      ],
      "execution_count": 20,
      "outputs": [
        {
          "output_type": "execute_result",
          "data": {
            "text/plain": [
              "5"
            ]
          },
          "metadata": {
            "tags": []
          },
          "execution_count": 20
        }
      ]
    },
    {
      "cell_type": "code",
      "metadata": {
        "id": "ECdsQKi-C_Ka"
      },
      "source": [
        "def div(a,b):\n",
        "  c=a/b\n",
        "  return c"
      ],
      "execution_count": 21,
      "outputs": []
    },
    {
      "cell_type": "code",
      "metadata": {
        "colab": {
          "base_uri": "https://localhost:8080/"
        },
        "id": "g-v9GG3WDIiH",
        "outputId": "4a6492cd-c6cf-4fd0-c980-924aed22a487"
      },
      "source": [
        "ans=div(10,5)\n",
        "ans"
      ],
      "execution_count": 22,
      "outputs": [
        {
          "output_type": "execute_result",
          "data": {
            "text/plain": [
              "2.0"
            ]
          },
          "metadata": {
            "tags": []
          },
          "execution_count": 22
        }
      ]
    },
    {
      "cell_type": "code",
      "metadata": {
        "id": "WRb-RHN0DP6Q"
      },
      "source": [
        "def mult(a,b):\n",
        "  c=a*b\n",
        "  return c\n"
      ],
      "execution_count": 23,
      "outputs": []
    },
    {
      "cell_type": "code",
      "metadata": {
        "colab": {
          "base_uri": "https://localhost:8080/"
        },
        "id": "8FbzeJAEDarQ",
        "outputId": "2ee40e46-7f5e-429c-e532-d866f568e77c"
      },
      "source": [
        "ans=mult(10,5)\n",
        "ans"
      ],
      "execution_count": 24,
      "outputs": [
        {
          "output_type": "execute_result",
          "data": {
            "text/plain": [
              "50"
            ]
          },
          "metadata": {
            "tags": []
          },
          "execution_count": 24
        }
      ]
    },
    {
      "cell_type": "code",
      "metadata": {
        "colab": {
          "base_uri": "https://localhost:8080/"
        },
        "id": "04Wi-B7JDg5J",
        "outputId": "ab2f16b5-043a-44aa-bbdb-1a553c94e586"
      },
      "source": [
        "x = 6\n",
        "x"
      ],
      "execution_count": 25,
      "outputs": [
        {
          "output_type": "execute_result",
          "data": {
            "text/plain": [
              "6"
            ]
          },
          "metadata": {
            "tags": []
          },
          "execution_count": 25
        }
      ]
    },
    {
      "cell_type": "code",
      "metadata": {
        "colab": {
          "base_uri": "https://localhost:8080/"
        },
        "id": "MRPOoauBEtQ0",
        "outputId": "5631e240-3032-4427-dbc9-04f4b469c4dd"
      },
      "source": [
        "x == 7"
      ],
      "execution_count": 27,
      "outputs": [
        {
          "output_type": "execute_result",
          "data": {
            "text/plain": [
              "False"
            ]
          },
          "metadata": {
            "tags": []
          },
          "execution_count": 27
        }
      ]
    },
    {
      "cell_type": "code",
      "metadata": {
        "colab": {
          "base_uri": "https://localhost:8080/"
        },
        "id": "6mN8bfC2FO4H",
        "outputId": "c7b40dfc-1f30-4f21-f26e-71fd444daabe"
      },
      "source": [
        "x == 6"
      ],
      "execution_count": 28,
      "outputs": [
        {
          "output_type": "execute_result",
          "data": {
            "text/plain": [
              "True"
            ]
          },
          "metadata": {
            "tags": []
          },
          "execution_count": 28
        }
      ]
    },
    {
      "cell_type": "code",
      "metadata": {
        "id": "Xh0vlYj3FSGX"
      },
      "source": [
        "if x ==6:\n",
        "  print(x)"
      ],
      "execution_count": null,
      "outputs": []
    }
  ]
}